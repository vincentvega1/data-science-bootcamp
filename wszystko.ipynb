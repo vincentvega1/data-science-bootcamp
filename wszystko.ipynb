{
  "nbformat": 4,
  "nbformat_minor": 0,
  "metadata": {
    "colab": {
      "provenance": [],
      "authorship_tag": "ABX9TyMpal72/d8l9J6qVKIzK1xf",
      "include_colab_link": true
    },
    "kernelspec": {
      "name": "python3",
      "display_name": "Python 3"
    },
    "language_info": {
      "name": "python"
    }
  },
  "cells": [
    {
      "cell_type": "markdown",
      "metadata": {
        "id": "view-in-github",
        "colab_type": "text"
      },
      "source": [
        "<a href=\"https://colab.research.google.com/github/vincentvega1/data-science-bootcamp/blob/main/wszystko.ipynb\" target=\"_parent\"><img src=\"https://colab.research.google.com/assets/colab-badge.svg\" alt=\"Open In Colab\"/></a>"
      ]
    },
    {
      "cell_type": "code",
      "execution_count": null,
      "metadata": {
        "colab": {
          "base_uri": "https://localhost:8080/"
        },
        "id": "r8k1nI7j3jkz",
        "outputId": "4b2810a1-2906-4132-aaf6-f00bcfb7f016"
      },
      "outputs": [
        {
          "output_type": "stream",
          "name": "stdout",
          "text": [
            "Cześć Mały Frycuś\n"
          ]
        }
      ],
      "source": [
        "print(\"Cześć Mały Frycuś\")"
      ]
    },
    {
      "cell_type": "code",
      "source": [
        "print(\"test conectingu z GitHubem\")"
      ],
      "metadata": {
        "colab": {
          "base_uri": "https://localhost:8080/"
        },
        "id": "BsBibm4n8nw4",
        "outputId": "a14c52d3-eec2-4525-b7ce-43569d330c05"
      },
      "execution_count": 2,
      "outputs": [
        {
          "output_type": "stream",
          "name": "stdout",
          "text": [
            "test conectingu z GitHubem\n"
          ]
        }
      ]
    }
  ]
}